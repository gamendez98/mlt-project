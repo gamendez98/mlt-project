{
 "cells": [
  {
   "cell_type": "markdown",
   "id": "00da08ad-130d-4969-ae6e-5fd13fb4a568",
   "metadata": {},
   "source": [
    "# Fine-tuning RoBERTa"
   ]
  },
  {
   "cell_type": "markdown",
   "id": "a93a4742-7022-4e28-af52-cdd7f863ea22",
   "metadata": {},
   "source": [
    "Importing libraries."
   ]
  },
  {
   "cell_type": "code",
   "execution_count": 3,
   "id": "57cbbbef-6ae4-4d0b-b19f-f323bbcf935e",
   "metadata": {
    "tags": []
   },
   "outputs": [],
   "source": [
    "from datasets import load_dataset\n",
    "from transformers import AutoTokenizer, AutoModelForTokenClassification, TrainingArguments, DataCollatorForTokenClassification, Trainer\n",
    "from sklearn.preprocessing import LabelEncoder\n",
    "import warnings, evaluate, pickle, json\n",
    "from tqdm import tqdm\n",
    "import numpy as np\n",
    "warnings.filterwarnings(\"ignore\")\n",
    "from datasets import disable_caching\n",
    "disable_caching()"
   ]
  },
  {
   "cell_type": "markdown",
   "id": "914f7cf0-4952-493f-8eff-c01c802c61c1",
   "metadata": {
    "tags": []
   },
   "source": [
    "## Dataset tokenization"
   ]
  },
  {
   "cell_type": "markdown",
   "id": "c88708ad-ef7a-4a59-bc9a-e63763bc7a24",
   "metadata": {},
   "source": [
    "We load the dataset using the `datasets` library function `load_dataset`. This is the format used by Hugging Face."
   ]
  },
  {
   "cell_type": "code",
   "execution_count": 2,
   "id": "753442ce-980d-4297-8fc8-bf0a66b31423",
   "metadata": {},
   "outputs": [],
   "source": [
    "dataset = load_dataset(\"json\", data_files={\"train\": \"data/train_data.json\", \"validation\": \"data/val_data.json\", \"test\": \"data/test_data.json\"})"
   ]
  },
  {
   "cell_type": "markdown",
   "id": "9e6161b5-e9d5-4ecf-8e15-a2ba9a012453",
   "metadata": {},
   "source": [
    "Using the model id we can load both model and tokenizer. Since we have a special token `@PADDING`, we shall add it to the tokenizer."
   ]
  },
  {
   "cell_type": "code",
   "execution_count": 3,
   "id": "ab484f81-11b6-4c1b-9d28-dd6d0a434cff",
   "metadata": {},
   "outputs": [
    {
     "data": {
      "text/plain": [
       "1"
      ]
     },
     "execution_count": 3,
     "metadata": {},
     "output_type": "execute_result"
    }
   ],
   "source": [
    "model_id = \"MMG/xlm-roberta-large-ner-spanish\"\n",
    "tokenizer = AutoTokenizer.from_pretrained(model_id)\n",
    "tokenizer.add_tokens(new_tokens = [\"@@PADDING@@\"])"
   ]
  },
  {
   "cell_type": "markdown",
   "id": "89bf24f1-5c9a-46e5-90ef-affcd9cb2f1f",
   "metadata": {},
   "source": [
    "Let us quickly check how the tokenizer transform our words. Two things stand out:\n",
    "\n",
    "- It adds special tokens to the beginning and end of the sentence, `<s>` and `</s>`. We will have to let the model know that these are special tokens.\n",
    "- It breaks some words, indicating this by an underscore at the beginning of the first token of the decomposition, for example, _firstWord. When rearranging labels, we'll have to be sure to label only the first word of the decomposition."
   ]
  },
  {
   "cell_type": "code",
   "execution_count": 4,
   "id": "2487746e-a048-43a0-a676-15a1fc877099",
   "metadata": {},
   "outputs": [
    {
     "data": {
      "text/plain": [
       "(['@@PADDING@@',\n",
       "  'Aun',\n",
       "  'así',\n",
       "  'no',\n",
       "  'hemos',\n",
       "  'mi',\n",
       "  'favorito',\n",
       "  'de',\n",
       "  'los',\n",
       "  'poca',\n",
       "  'que',\n",
       "  'ANTE',\n",
       "  'el',\n",
       "  'momento',\n",
       "  'SERÁN',\n",
       "  'podido',\n",
       "  'escuchar',\n",
       "  'de',\n",
       "  'PeerGynt',\n",
       "  'Lobogris',\n",
       "  'fuimos'],\n",
       " ['<s>',\n",
       "  '@@PADDING@@',\n",
       "  '▁A',\n",
       "  'un',\n",
       "  '▁así',\n",
       "  '▁no',\n",
       "  '▁hemos',\n",
       "  '▁mi',\n",
       "  '▁favorito',\n",
       "  '▁de',\n",
       "  '▁los',\n",
       "  '▁poca',\n",
       "  '▁que',\n",
       "  '▁',\n",
       "  'ANTE',\n",
       "  '▁el',\n",
       "  '▁momento',\n",
       "  '▁SER',\n",
       "  'ÁN',\n",
       "  '▁podido',\n",
       "  '▁escuchar',\n",
       "  '▁de',\n",
       "  '▁Pe',\n",
       "  'er',\n",
       "  'G',\n",
       "  'y',\n",
       "  'nt',\n",
       "  '▁Lo',\n",
       "  'bog',\n",
       "  'ris',\n",
       "  '▁fui',\n",
       "  'mos',\n",
       "  '</s>'])"
      ]
     },
     "execution_count": 4,
     "metadata": {},
     "output_type": "execute_result"
    }
   ],
   "source": [
    "example = dataset[\"train\"][0]\n",
    "tokenized_input = tokenizer(example[\"modified_words\"], is_split_into_words=True)\n",
    "tokens = tokenizer.convert_ids_to_tokens(tokenized_input[\"input_ids\"])\n",
    "example[\"modified_words\"], tokens"
   ]
  },
  {
   "cell_type": "markdown",
   "id": "ff4dfc77-2afd-4a79-a3a0-8ff154073a7c",
   "metadata": {},
   "source": [
    "The next function tokenizes our phrase, and reassign its labels accordingly. Particularly, it will label as -100 both [CLS] and [SEP], and it will only label the first word of a decomposition, telling the model to ignore the rest with the label -100."
   ]
  },
  {
   "cell_type": "code",
   "execution_count": 6,
   "id": "678cfb6c-eb2b-4f29-81ac-f8a9c62aa898",
   "metadata": {},
   "outputs": [],
   "source": [
    "def tokenize_and_align_labels(examples):\n",
    "    tokenized_inputs = tokenizer(examples[\"modified_words\"], truncation=True, is_split_into_words=True)\n",
    "\n",
    "    labels = []\n",
    "    for i, label in enumerate(examples[f\"ner_tags\"]):\n",
    "        word_ids = tokenized_inputs.word_ids(batch_index=i)\n",
    "        previous_word_idx = None\n",
    "        label_ids = []\n",
    "        for word_idx in word_ids:\n",
    "            if word_idx is None:\n",
    "                label_ids.append(-100)\n",
    "            elif word_idx != previous_word_idx:\n",
    "                label_ids.append(label[word_idx])\n",
    "            else:\n",
    "                label_ids.append(-100)\n",
    "            previous_word_idx = word_idx\n",
    "        labels.append(label_ids)\n",
    "\n",
    "    tokenized_inputs[\"labels\"] = labels\n",
    "    return tokenized_inputs"
   ]
  },
  {
   "cell_type": "markdown",
   "id": "cf8812b9-4bad-4eb7-8276-38eadebe06e5",
   "metadata": {},
   "source": [
    "We map our dataset with this function."
   ]
  },
  {
   "cell_type": "code",
   "execution_count": 7,
   "id": "b4d49de8-8b2d-4112-b1af-2f6a4ba58b32",
   "metadata": {},
   "outputs": [
    {
     "name": "stderr",
     "output_type": "stream",
     "text": [
      "Map: 100%|████████████████████| 819832/819832 [01:04<00:00, 12697.52 examples/s]\n",
      "Map: 100%|████████████████████| 234237/234237 [00:18<00:00, 12493.89 examples/s]\n",
      "Map: 100%|████████████████████| 117120/117120 [00:09<00:00, 12857.83 examples/s]\n"
     ]
    }
   ],
   "source": [
    "tokenized_dataset = dataset.map(tokenize_and_align_labels, batched=True)"
   ]
  },
  {
   "cell_type": "markdown",
   "id": "4bc3495e-1819-475d-936b-b18300238666",
   "metadata": {},
   "source": [
    "With it, we can define the `data_collator` for training."
   ]
  },
  {
   "cell_type": "code",
   "execution_count": 8,
   "id": "ec86a6b5-d3ed-4895-8426-e009c887e269",
   "metadata": {},
   "outputs": [],
   "source": [
    "data_collator = DataCollatorForTokenClassification(tokenizer=tokenizer)"
   ]
  },
  {
   "cell_type": "markdown",
   "id": "0ad14777-bbdc-4b65-8ad1-1b72bba89fd8",
   "metadata": {},
   "source": [
    "With our previously saved `LabelEncoder` we will define dictionaries `id2label` and `label2id` to jump between our integer representations and our labels. This info will also be passed out to the model configuration."
   ]
  },
  {
   "cell_type": "code",
   "execution_count": 11,
   "id": "16f90912-1b65-4093-97f4-65568b5e8d0e",
   "metadata": {},
   "outputs": [],
   "source": [
    "with open(\"data/labelencoder.pkl\",\"rb\") as f:\n",
    "    le = pickle.load(f)\n",
    "\n",
    "id2label = {i: le.classes_[i] for i in range(len(le.classes_))}\n",
    "label2id = {id2label[j]: j for j in range(len(id2label))}"
   ]
  },
  {
   "cell_type": "markdown",
   "id": "ad856198-d8a6-4d54-be1e-1b6683c68f68",
   "metadata": {},
   "source": [
    "We load the model, also rezising it accordingly to the tokenizer, since we added one more token."
   ]
  },
  {
   "cell_type": "code",
   "execution_count": 12,
   "id": "982f3953-4384-4cf9-9f74-6594a1702b82",
   "metadata": {},
   "outputs": [
    {
     "name": "stderr",
     "output_type": "stream",
     "text": [
      "Some weights of XLMRobertaForTokenClassification were not initialized from the model checkpoint at MMG/xlm-roberta-large-ner-spanish and are newly initialized because the shapes did not match:\n",
      "- classifier.bias: found shape torch.Size([9]) in the checkpoint and torch.Size([5000]) in the model instantiated\n",
      "- classifier.weight: found shape torch.Size([9, 1024]) in the checkpoint and torch.Size([5000, 1024]) in the model instantiated\n",
      "You should probably TRAIN this model on a down-stream task to be able to use it for predictions and inference.\n"
     ]
    },
    {
     "data": {
      "text/plain": [
       "Embedding(250003, 1024)"
      ]
     },
     "execution_count": 12,
     "metadata": {},
     "output_type": "execute_result"
    }
   ],
   "source": [
    "model = AutoModelForTokenClassification.from_pretrained(model_id, num_labels=len(le.classes_), id2label=id2label, label2id=label2id, ignore_mismatched_sizes = True)\n",
    "model.resize_token_embeddings(len(tokenizer))"
   ]
  },
  {
   "cell_type": "markdown",
   "id": "77a6bb37-2986-4683-801e-4ad5034d7b55",
   "metadata": {},
   "source": [
    "We will be computing metrics with the help of the `seqeval` library. We also define a function to preprocess the logits for the metrics calculation, this will help out optimizing the training and evaluation loop."
   ]
  },
  {
   "cell_type": "code",
   "execution_count": 13,
   "id": "c4a4b6cb-30a6-4f37-b56a-19306febf338",
   "metadata": {},
   "outputs": [],
   "source": [
    "seqeval = evaluate.load(\"seqeval\")\n",
    "\n",
    "def compute_metrics(p):\n",
    "    predictions = p.predictions\n",
    "    labels = p.label_ids\n",
    "    \n",
    "    true_predictions = [\n",
    "        [id2label[p] for (p, l) in zip(prediction, label) if l != -100]\n",
    "        for prediction, label in zip(predictions, labels)\n",
    "    ]\n",
    "    true_labels = [\n",
    "        [id2label[l] for (p, l) in zip(prediction, label) if l != -100]\n",
    "        for prediction, label in zip(predictions, labels)\n",
    "    ]\n",
    "\n",
    "    results = seqeval.compute(predictions=true_predictions, references=true_labels)\n",
    "    return {\n",
    "        \"precision\": results[\"overall_precision\"],\n",
    "        \"recall\": results[\"overall_recall\"],\n",
    "        \"f1\": results[\"overall_f1\"],\n",
    "        \"accuracy\": results[\"overall_accuracy\"],\n",
    "    }\n",
    "\n",
    "def preprocess_logits_for_metrics(logits, labels):\n",
    "    pred_ids = np.argmax(logits.cpu(), axis=2)\n",
    "    return pred_ids"
   ]
  },
  {
   "cell_type": "markdown",
   "id": "b643f984-d30d-4e96-8a18-b24a889c36c2",
   "metadata": {},
   "source": [
    "Now, the `TrainingArguments` definition. We shall train for 2 epochs, with a precision of `fp16`. We'll only save the best model based on the `f1-score`. \n",
    "\n",
    "**IMPORTANT:** although this notebook works, RoBERTa training takes a lot of time. Training for 2 epochs will take about 9-10 hours. As such, the training was executed via a script called `roberta_finetune_script.py`, which basically sintetizes all of this training pipeline, in order to run it via terminal. "
   ]
  },
  {
   "cell_type": "code",
   "execution_count": null,
   "id": "31a5b87b-6dae-45e2-83d3-5275b80e2c03",
   "metadata": {
    "tags": []
   },
   "outputs": [],
   "source": [
    "training_args = TrainingArguments(\n",
    "    output_dir=\"test_model_roberta\",\n",
    "    learning_rate=5e-5,\n",
    "    per_device_train_batch_size=8,\n",
    "    per_device_eval_batch_size=8,\n",
    "    num_train_epochs=2,\n",
    "    evaluation_strategy=\"steps\",\n",
    "    eval_steps = 0.5,\n",
    "    save_strategy=\"steps\",\n",
    "    save_steps = 0.5,\n",
    "    load_best_model_at_end=True,\n",
    "    fp16=True,\n",
    "    save_total_limit=1,\n",
    "    metric_for_best_model=\"f1\",\n",
    "    greater_is_better=True,\n",
    "    logging_dir = \"./logs\",\n",
    "    logging_steps = 0.5\n",
    ")\n",
    "\n",
    "trainer = Trainer(\n",
    "    model=model,\n",
    "    args=training_args,\n",
    "    train_dataset=tokenized_dataset[\"train\"],\n",
    "    eval_dataset=tokenized_dataset[\"validation\"],\n",
    "    tokenizer=tokenizer,\n",
    "    data_collator=data_collator,\n",
    "    compute_metrics=compute_metrics,\n",
    "    preprocess_logits_for_metrics=preprocess_logits_for_metrics\n",
    ")\n",
    "\n",
    "trainer.train()"
   ]
  },
  {
   "cell_type": "code",
   "execution_count": null,
   "id": "ecf77196-2f53-48aa-acb9-67d1ea3d571c",
   "metadata": {},
   "outputs": [],
   "source": [
    "trainer.save_model(\"roberta_ner_model\")"
   ]
  }
 ],
 "metadata": {
  "kernelspec": {
   "display_name": "Python 3 (ipykernel)",
   "language": "python",
   "name": "python3"
  },
  "language_info": {
   "codemirror_mode": {
    "name": "ipython",
    "version": 3
   },
   "file_extension": ".py",
   "mimetype": "text/x-python",
   "name": "python",
   "nbconvert_exporter": "python",
   "pygments_lexer": "ipython3",
   "version": "3.10.12"
  }
 },
 "nbformat": 4,
 "nbformat_minor": 5
}
