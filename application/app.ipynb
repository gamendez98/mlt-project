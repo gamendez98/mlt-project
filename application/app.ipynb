{
 "cells": [
  {
   "cell_type": "code",
   "execution_count": 1,
   "id": "da4e5597-4604-43e5-961e-02e97efd73eb",
   "metadata": {},
   "outputs": [
    {
     "name": "stderr",
     "output_type": "stream",
     "text": [
      "/home/estudiante/venv/lib/python3.10/site-packages/tqdm/auto.py:21: TqdmWarning: IProgress not found. Please update jupyter and ipywidgets. See https://ipywidgets.readthedocs.io/en/stable/user_install.html\n",
      "  from .autonotebook import tqdm as notebook_tqdm\n",
      "2024-05-26 12:18:26.850359: I tensorflow/core/util/port.cc:113] oneDNN custom operations are on. You may see slightly different numerical results due to floating-point round-off errors from different computation orders. To turn them off, set the environment variable `TF_ENABLE_ONEDNN_OPTS=0`.\n",
      "2024-05-26 12:18:26.900892: I tensorflow/core/platform/cpu_feature_guard.cc:210] This TensorFlow binary is optimized to use available CPU instructions in performance-critical operations.\n",
      "To enable the following instructions: AVX2 AVX512F AVX512_VNNI FMA, in other operations, rebuild TensorFlow with the appropriate compiler flags.\n",
      "2024-05-26 12:18:27.772986: W tensorflow/compiler/tf2tensorrt/utils/py_utils.cc:38] TF-TRT Warning: Could not find TensorRT\n"
     ]
    }
   ],
   "source": [
    "import gradio as gr\n",
    "from grammar_error_correction import GrammarErrorCorrector\n",
    "\n",
    "from token_realignment import RobertaTokenWordAlignment\n",
    "from token_realignment import BertTokenWordAlignment"
   ]
  },
  {
   "cell_type": "code",
   "execution_count": 3,
   "id": "6ee1eab6-028c-41c5-b3c9-4b39e16e8b2c",
   "metadata": {},
   "outputs": [
    {
     "name": "stdout",
     "output_type": "stream",
     "text": [
      "Running on local URL:  http://0.0.0.0:7861\n",
      "\n",
      "To create a public link, set `share=True` in `launch()`.\n"
     ]
    },
    {
     "data": {
      "text/html": [
       "<div><iframe src=\"http://localhost:7861/\" width=\"100%\" height=\"500\" allow=\"autoplay; camera; microphone; clipboard-read; clipboard-write;\" frameborder=\"0\" allowfullscreen></iframe></div>"
      ],
      "text/plain": [
       "<IPython.core.display.HTML object>"
      ]
     },
     "metadata": {},
     "output_type": "display_data"
    },
    {
     "data": {
      "text/plain": []
     },
     "execution_count": 3,
     "metadata": {},
     "output_type": "execute_result"
    }
   ],
   "source": [
    "def load_model(model_name):\n",
    "    MODEL_PATH = f\"../Project_Testing/{model_name}\"\n",
    "    if model_name.startswith(\"roberta\"):\n",
    "        TOKEN_ALIGNMENT = RobertaTokenWordAlignment()\n",
    "    elif model_name.startswith(\"bert\"):\n",
    "        TOKEN_ALIGNMENT = BertTokenWordAlignment()\n",
    "    return GrammarErrorCorrector(MODEL_PATH, TOKEN_ALIGNMENT)\n",
    "\n",
    "# Initialize with a default model\n",
    "gec = load_model(\"bert_ner_model\")\n",
    "\n",
    "def predict(text):\n",
    "    return gec.correct_sentence(text)\n",
    "\n",
    "def verify_text(input_text, model_name):\n",
    "    global gec\n",
    "    try:\n",
    "        # Load the selected model\n",
    "        gec = load_model(model_name)\n",
    "        return gec.correct_sentence(input_text)\n",
    "    except Exception as e:\n",
    "        return f\"Error al procesar el texto: {str(e)}\"\n",
    "\n",
    "def clear_text():\n",
    "    return \"\", \"\"\n",
    "\n",
    "custom_css = \"\"\"\n",
    "#header {\n",
    "    text-align: left;\n",
    "    margin-left: 10px;\n",
    "}\n",
    "\n",
    "#university-text {\n",
    "    font-size: 20px;\n",
    "    font-weight: bold;\n",
    "}\n",
    "\n",
    "#ml-text {\n",
    "    font-size: 14px;\n",
    "    color: #555;\n",
    "}\n",
    "\"\"\"\n",
    "\n",
    "with gr.Blocks(css=custom_css) as demo:\n",
    "    with gr.Row():\n",
    "        with gr.Column():\n",
    "            gr.HTML(\"\"\"\n",
    "                <div id='header'>\n",
    "                    <div id='university-text'>Universidad de Los Andes</div>\n",
    "                    <div id='ml-text'>Machine Learning Techniques. MISIS-4219</div>\n",
    "                </div>\n",
    "            \"\"\")\n",
    "        with gr.Column():\n",
    "            gr.Markdown(\"<h1 style='text-align: center;'>Spanish Grammar Verification Application</h1>\")\n",
    "        with gr.Column():\n",
    "            pass\n",
    "    with gr.Row():\n",
    "        model_selector = gr.Dropdown(choices=[\"bert_ner_model\", \"roberta_ner_model\"], value=\"bert_ner_model\", label=\"Select Model\")\n",
    "    with gr.Row():\n",
    "        with gr.Column():\n",
    "            text_input = gr.Textbox(lines=10, placeholder=\"Escribe o pega tu texto aquí\", label=\"Introduzca texto\")\n",
    "        \n",
    "        with gr.Column():\n",
    "            result_output = gr.Textbox(lines=10, interactive=False, label=\"Resultado revisión\")\n",
    "    \n",
    "    with gr.Row():\n",
    "        check_btn = gr.Button(\"Verify\")\n",
    "        clean_btn = gr.Button(\"Clean\")\n",
    "    \n",
    "    check_btn.click(fn=verify_text, inputs=[text_input, model_selector], outputs=result_output)\n",
    "    clean_btn.click(fn=clear_text, inputs=None, outputs=[text_input, result_output])\n",
    "\n",
    "demo.launch(server_name=\"0.0.0.0\", server_port=7861)\n",
    "# demo.launch(server_port=7681) # local check"
   ]
  },
  {
   "cell_type": "code",
   "execution_count": null,
   "id": "7bb1804b-92fc-494f-b06a-7f5f32d8e926",
   "metadata": {},
   "outputs": [],
   "source": []
  }
 ],
 "metadata": {
  "kernelspec": {
   "display_name": "Python 3 (ipykernel)",
   "language": "python",
   "name": "python3"
  },
  "language_info": {
   "codemirror_mode": {
    "name": "ipython",
    "version": 3
   },
   "file_extension": ".py",
   "mimetype": "text/x-python",
   "name": "python",
   "nbconvert_exporter": "python",
   "pygments_lexer": "ipython3",
   "version": "3.10.12"
  }
 },
 "nbformat": 4,
 "nbformat_minor": 5
}
